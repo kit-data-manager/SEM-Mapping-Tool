{
 "cells": [
  {
   "cell_type": "code",
   "execution_count": 1,
   "id": "859e29c8",
   "metadata": {},
   "outputs": [
    {
     "name": "stdout",
     "output_type": "stream",
     "text": [
      "Requirement already satisfied: pip in /opt/homebrew/lib/python3.10/site-packages (22.3.1)\r\n"
     ]
    }
   ],
   "source": [
    "!pip install --upgrade pip\n",
    "#!pip3 install tifffile"
   ]
  },
  {
   "cell_type": "code",
   "execution_count": 2,
   "id": "49ab7da0",
   "metadata": {},
   "outputs": [
    {
     "name": "stdout",
     "output_type": "stream",
     "text": [
      "Requirement already satisfied: pandas in /opt/homebrew/lib/python3.10/site-packages (1.5.1)\n",
      "Requirement already satisfied: numpy>=1.21.0 in /opt/homebrew/lib/python3.10/site-packages (from pandas) (1.23.4)\n",
      "Requirement already satisfied: pytz>=2020.1 in /opt/homebrew/lib/python3.10/site-packages (from pandas) (2022.6)\n",
      "Requirement already satisfied: python-dateutil>=2.8.1 in /opt/homebrew/lib/python3.10/site-packages (from pandas) (2.8.2)\n",
      "Requirement already satisfied: six>=1.5 in /opt/homebrew/lib/python3.10/site-packages (from python-dateutil>=2.8.1->pandas) (1.16.0)\n",
      "Requirement already satisfied: pathlib in /opt/homebrew/lib/python3.10/site-packages (1.0.1)\n",
      "Requirement already satisfied: openpyxl in /opt/homebrew/lib/python3.10/site-packages (3.0.10)\n",
      "Requirement already satisfied: et-xmlfile in /opt/homebrew/lib/python3.10/site-packages (from openpyxl) (1.1.0)\n",
      "Requirement already satisfied: xlrd in /opt/homebrew/lib/python3.10/site-packages (2.0.1)\n",
      "Requirement already satisfied: xlwt in /opt/homebrew/lib/python3.10/site-packages (1.3.0)\n",
      "Requirement already satisfied: pyxlsb in /opt/homebrew/lib/python3.10/site-packages (1.0.10)\n",
      "Requirement already satisfied: hyperspy in /opt/homebrew/lib/python3.10/site-packages (1.7.3)\n",
      "Requirement already satisfied: toolz in /opt/homebrew/lib/python3.10/site-packages (from hyperspy) (0.12.0)\n",
      "Requirement already satisfied: h5py>=2.3 in /opt/homebrew/lib/python3.10/site-packages (from hyperspy) (3.7.0)\n",
      "Requirement already satisfied: dask[array]>=2.11.0 in /opt/homebrew/lib/python3.10/site-packages (from hyperspy) (2022.11.0)\n",
      "Requirement already satisfied: packaging in /opt/homebrew/lib/python3.10/site-packages (from hyperspy) (21.3)\n",
      "Requirement already satisfied: numexpr in /opt/homebrew/lib/python3.10/site-packages (from hyperspy) (2.8.4)\n",
      "Requirement already satisfied: imageio in /opt/homebrew/lib/python3.10/site-packages (from hyperspy) (2.22.4)\n",
      "Requirement already satisfied: sympy in /opt/homebrew/lib/python3.10/site-packages (from hyperspy) (1.11.1)\n",
      "Requirement already satisfied: importlib-metadata>=3.6 in /opt/homebrew/lib/python3.10/site-packages (from hyperspy) (5.0.0)\n",
      "Requirement already satisfied: pyyaml in /opt/homebrew/lib/python3.10/site-packages (from hyperspy) (6.0)\n",
      "Requirement already satisfied: requests in /opt/homebrew/lib/python3.10/site-packages (from hyperspy) (2.28.1)\n",
      "Requirement already satisfied: sparse in /opt/homebrew/lib/python3.10/site-packages (from hyperspy) (0.13.0)\n",
      "Requirement already satisfied: scikit-image>=0.15 in /opt/homebrew/lib/python3.10/site-packages (from hyperspy) (0.19.3)\n",
      "Requirement already satisfied: natsort in /opt/homebrew/lib/python3.10/site-packages (from hyperspy) (8.2.0)\n",
      "Requirement already satisfied: fsspec in /opt/homebrew/lib/python3.10/site-packages (from hyperspy) (2022.11.0)\n",
      "Requirement already satisfied: python-dateutil>=2.5.0 in /opt/homebrew/lib/python3.10/site-packages (from hyperspy) (2.8.2)\n",
      "Requirement already satisfied: matplotlib>=3.1.3 in /opt/homebrew/lib/python3.10/site-packages (from hyperspy) (3.6.2)\n",
      "Requirement already satisfied: dill in /opt/homebrew/lib/python3.10/site-packages (from hyperspy) (0.3.6)\n",
      "Requirement already satisfied: prettytable in /opt/homebrew/lib/python3.10/site-packages (from hyperspy) (3.5.0)\n",
      "Requirement already satisfied: pint>=0.10 in /opt/homebrew/lib/python3.10/site-packages (from hyperspy) (0.20.1)\n",
      "Requirement already satisfied: jinja2 in /opt/homebrew/lib/python3.10/site-packages (from hyperspy) (3.1.2)\n",
      "Requirement already satisfied: numba>=0.52 in /opt/homebrew/lib/python3.10/site-packages (from hyperspy) (0.56.4)\n",
      "Requirement already satisfied: ipython!=8.0.* in /opt/homebrew/lib/python3.10/site-packages (from hyperspy) (8.6.0)\n",
      "Requirement already satisfied: tifffile>=2020.2.16 in /opt/homebrew/lib/python3.10/site-packages (from hyperspy) (2022.10.10)\n",
      "Requirement already satisfied: scipy>=1.1 in /opt/homebrew/lib/python3.10/site-packages (from hyperspy) (1.9.3)\n",
      "Requirement already satisfied: traits>=4.5.0 in /opt/homebrew/lib/python3.10/site-packages (from hyperspy) (6.4.1)\n",
      "Requirement already satisfied: ipyparallel in /opt/homebrew/lib/python3.10/site-packages (from hyperspy) (8.4.1)\n",
      "Requirement already satisfied: numpy>=1.17.1 in /opt/homebrew/lib/python3.10/site-packages (from hyperspy) (1.23.4)\n",
      "Requirement already satisfied: tqdm>=4.9.0 in /opt/homebrew/lib/python3.10/site-packages (from hyperspy) (4.64.1)\n",
      "Requirement already satisfied: partd>=0.3.10 in /opt/homebrew/lib/python3.10/site-packages (from dask[array]>=2.11.0->hyperspy) (1.3.0)\n",
      "Requirement already satisfied: cloudpickle>=1.1.1 in /opt/homebrew/lib/python3.10/site-packages (from dask[array]>=2.11.0->hyperspy) (2.2.0)\n",
      "Requirement already satisfied: click>=7.0 in /opt/homebrew/lib/python3.10/site-packages (from dask[array]>=2.11.0->hyperspy) (8.1.3)\n",
      "Requirement already satisfied: zipp>=0.5 in /opt/homebrew/lib/python3.10/site-packages (from importlib-metadata>=3.6->hyperspy) (3.10.0)\n",
      "Requirement already satisfied: appnope in /opt/homebrew/lib/python3.10/site-packages (from ipython!=8.0.*->hyperspy) (0.1.3)\n",
      "Requirement already satisfied: pygments>=2.4.0 in /opt/homebrew/Cellar/pygments/2.13.0_1/libexec/lib/python3.10/site-packages (from ipython!=8.0.*->hyperspy) (2.13.0)\n",
      "Requirement already satisfied: pexpect>4.3 in /opt/homebrew/lib/python3.10/site-packages (from ipython!=8.0.*->hyperspy) (4.8.0)\n",
      "Requirement already satisfied: decorator in /opt/homebrew/lib/python3.10/site-packages (from ipython!=8.0.*->hyperspy) (5.1.1)\n",
      "Requirement already satisfied: backcall in /opt/homebrew/lib/python3.10/site-packages (from ipython!=8.0.*->hyperspy) (0.2.0)\n",
      "Requirement already satisfied: jedi>=0.16 in /opt/homebrew/lib/python3.10/site-packages (from ipython!=8.0.*->hyperspy) (0.18.1)\n",
      "Requirement already satisfied: stack-data in /opt/homebrew/lib/python3.10/site-packages (from ipython!=8.0.*->hyperspy) (0.6.1)\n",
      "Requirement already satisfied: pickleshare in /opt/homebrew/lib/python3.10/site-packages (from ipython!=8.0.*->hyperspy) (0.7.5)\n",
      "Requirement already satisfied: matplotlib-inline in /opt/homebrew/lib/python3.10/site-packages (from ipython!=8.0.*->hyperspy) (0.1.6)\n",
      "Requirement already satisfied: traitlets>=5 in /opt/homebrew/lib/python3.10/site-packages (from ipython!=8.0.*->hyperspy) (5.5.0)\n",
      "Requirement already satisfied: prompt-toolkit<3.1.0,>3.0.1 in /opt/homebrew/lib/python3.10/site-packages (from ipython!=8.0.*->hyperspy) (3.0.32)\n",
      "Requirement already satisfied: cycler>=0.10 in /opt/homebrew/lib/python3.10/site-packages (from matplotlib>=3.1.3->hyperspy) (0.11.0)\n",
      "Requirement already satisfied: kiwisolver>=1.0.1 in /opt/homebrew/lib/python3.10/site-packages (from matplotlib>=3.1.3->hyperspy) (1.4.4)\n",
      "Requirement already satisfied: pillow>=6.2.0 in /opt/homebrew/lib/python3.10/site-packages (from matplotlib>=3.1.3->hyperspy) (9.3.0)\n",
      "Requirement already satisfied: pyparsing>=2.2.1 in /opt/homebrew/lib/python3.10/site-packages (from matplotlib>=3.1.3->hyperspy) (3.0.9)\n",
      "Requirement already satisfied: fonttools>=4.22.0 in /opt/homebrew/lib/python3.10/site-packages (from matplotlib>=3.1.3->hyperspy) (4.38.0)\n",
      "Requirement already satisfied: contourpy>=1.0.1 in /opt/homebrew/lib/python3.10/site-packages (from matplotlib>=3.1.3->hyperspy) (1.0.6)\n",
      "Requirement already satisfied: llvmlite<0.40,>=0.39.0dev0 in /opt/homebrew/lib/python3.10/site-packages (from numba>=0.52->hyperspy) (0.39.1)\n",
      "Requirement already satisfied: setuptools in /opt/homebrew/lib/python3.10/site-packages (from numba>=0.52->hyperspy) (65.4.1)\n",
      "Requirement already satisfied: six>=1.5 in /opt/homebrew/lib/python3.10/site-packages (from python-dateutil>=2.5.0->hyperspy) (1.16.0)\n",
      "Requirement already satisfied: networkx>=2.2 in /opt/homebrew/lib/python3.10/site-packages (from scikit-image>=0.15->hyperspy) (2.8.8)\n",
      "Requirement already satisfied: PyWavelets>=1.1.1 in /opt/homebrew/lib/python3.10/site-packages (from scikit-image>=0.15->hyperspy) (1.4.1)\n",
      "Requirement already satisfied: pyzmq>=18 in /opt/homebrew/lib/python3.10/site-packages (from ipyparallel->hyperspy) (24.0.1)\n",
      "Requirement already satisfied: jupyter-client in /opt/homebrew/lib/python3.10/site-packages (from ipyparallel->hyperspy) (7.4.6)\n",
      "Requirement already satisfied: psutil in /opt/homebrew/lib/python3.10/site-packages (from ipyparallel->hyperspy) (5.9.4)\n",
      "Requirement already satisfied: tornado>=5.1 in /opt/homebrew/lib/python3.10/site-packages (from ipyparallel->hyperspy) (6.2)\n",
      "Requirement already satisfied: ipykernel>=4.4 in /opt/homebrew/lib/python3.10/site-packages (from ipyparallel->hyperspy) (6.17.1)\n",
      "Requirement already satisfied: entrypoints in /opt/homebrew/lib/python3.10/site-packages (from ipyparallel->hyperspy) (0.4)\n",
      "Requirement already satisfied: MarkupSafe>=2.0 in /opt/homebrew/lib/python3.10/site-packages (from jinja2->hyperspy) (2.1.1)\n",
      "Requirement already satisfied: wcwidth in /opt/homebrew/lib/python3.10/site-packages (from prettytable->hyperspy) (0.2.5)\n",
      "Requirement already satisfied: idna<4,>=2.5 in /opt/homebrew/lib/python3.10/site-packages (from requests->hyperspy) (3.4)\n",
      "Requirement already satisfied: urllib3<1.27,>=1.21.1 in /opt/homebrew/lib/python3.10/site-packages (from requests->hyperspy) (1.26.12)\n",
      "Requirement already satisfied: charset-normalizer<3,>=2 in /opt/homebrew/lib/python3.10/site-packages (from requests->hyperspy) (2.1.1)\n",
      "Requirement already satisfied: certifi>=2017.4.17 in /opt/homebrew/lib/python3.10/site-packages (from requests->hyperspy) (2022.9.24)\n"
     ]
    },
    {
     "name": "stdout",
     "output_type": "stream",
     "text": [
      "Requirement already satisfied: mpmath>=0.19 in /opt/homebrew/lib/python3.10/site-packages (from sympy->hyperspy) (1.2.1)\n",
      "Requirement already satisfied: debugpy>=1.0 in /opt/homebrew/lib/python3.10/site-packages (from ipykernel>=4.4->ipyparallel->hyperspy) (1.6.3)\n",
      "Requirement already satisfied: nest-asyncio in /opt/homebrew/lib/python3.10/site-packages (from ipykernel>=4.4->ipyparallel->hyperspy) (1.5.6)\n",
      "Requirement already satisfied: parso<0.9.0,>=0.8.0 in /opt/homebrew/lib/python3.10/site-packages (from jedi>=0.16->ipython!=8.0.*->hyperspy) (0.8.3)\n",
      "Requirement already satisfied: jupyter-core>=4.9.2 in /opt/homebrew/lib/python3.10/site-packages (from jupyter-client->ipyparallel->hyperspy) (5.0.0)\n",
      "Requirement already satisfied: locket in /opt/homebrew/lib/python3.10/site-packages (from partd>=0.3.10->dask[array]>=2.11.0->hyperspy) (1.0.0)\n",
      "Requirement already satisfied: ptyprocess>=0.5 in /opt/homebrew/lib/python3.10/site-packages (from pexpect>4.3->ipython!=8.0.*->hyperspy) (0.7.0)\n",
      "Requirement already satisfied: executing>=1.2.0 in /opt/homebrew/lib/python3.10/site-packages (from stack-data->ipython!=8.0.*->hyperspy) (1.2.0)\n",
      "Requirement already satisfied: pure-eval in /opt/homebrew/lib/python3.10/site-packages (from stack-data->ipython!=8.0.*->hyperspy) (0.2.2)\n",
      "Requirement already satisfied: asttokens>=2.1.0 in /opt/homebrew/lib/python3.10/site-packages (from stack-data->ipython!=8.0.*->hyperspy) (2.1.0)\n",
      "Requirement already satisfied: platformdirs in /opt/homebrew/lib/python3.10/site-packages (from jupyter-core>=4.9.2->jupyter-client->ipyparallel->hyperspy) (2.5.4)\n"
     ]
    }
   ],
   "source": [
    "#to be run if not installed yet\n",
    "!pip3 install pandas\n",
    "!pip3 install pathlib\n",
    "!pip3 install openpyxl\n",
    "!pip3 install xlrd\n",
    "!pip3 install xlwt\n",
    "!pip3 install pyxlsb\n",
    "!pip3 install hyperspy"
   ]
  },
  {
   "cell_type": "code",
   "execution_count": 3,
   "id": "89823da5",
   "metadata": {},
   "outputs": [],
   "source": [
    "import json\n",
    "import os\n",
    "import glob\n",
    "import logging\n",
    "from jsonschema import validate\n",
    "import urllib.request\n",
    "from pprint import pprint"
   ]
  },
  {
   "cell_type": "code",
   "execution_count": 6,
   "id": "1f8175a0",
   "metadata": {},
   "outputs": [],
   "source": [
    "#view all the metadata stored in the ZEISS TIFF file\n",
    "import zeiss_tiff_meta.zeisstiffmeta as zm"
   ]
  },
  {
   "cell_type": "code",
   "execution_count": 7,
   "id": "91cc17ce",
   "metadata": {},
   "outputs": [],
   "source": [
    "src = 'FeMoOx_AntiA_04_1k5x_CN.tif'\n",
    "\n",
    "# extract the full metadata as defined by Zeiss:\n",
    "tab = zm.zeiss_meta(src)"
   ]
  },
  {
   "cell_type": "code",
   "execution_count": 8,
   "id": "3a5474e8",
   "metadata": {
    "scrolled": true
   },
   "outputs": [],
   "source": [
    "#print(tab)\n",
    "#first element in the tuple is a name used by Zeiss, second one is the more human understandable form, third is the value and the fouth is the unit, if it has a unit\n",
    "#tab"
   ]
  },
  {
   "cell_type": "code",
   "execution_count": 9,
   "id": "22131a56",
   "metadata": {},
   "outputs": [],
   "source": [
    "#tab"
   ]
  },
  {
   "cell_type": "code",
   "execution_count": 10,
   "id": "e00feb6c",
   "metadata": {},
   "outputs": [],
   "source": [
    "class Imagedata:\n",
    "    def __init__(self,tab):\n",
    "        del tab[0]\n",
    "        resultDictionary = {**dict((x1+\"_value\",x2) for x0, x1, x2, x3 in tab) , **dict((x1+\"_unit\",x3) for x0, x1, x2, x3 in tab)}\n",
    "        resultDictionary_filtered={k: v for k, v in resultDictionary.items() if v != ''}\n",
    "        self.resultDictionary_filtered_sorted=dict(sorted(resultDictionary_filtered.items()))"
   ]
  },
  {
   "cell_type": "code",
   "execution_count": 11,
   "id": "e29f540c",
   "metadata": {},
   "outputs": [],
   "source": [
    "#pprint(Imagedata.__dict__)"
   ]
  },
  {
   "cell_type": "code",
   "execution_count": 12,
   "id": "be2fdcb7",
   "metadata": {},
   "outputs": [],
   "source": [
    "metadata = Imagedata(tab)"
   ]
  },
  {
   "cell_type": "code",
   "execution_count": 13,
   "id": "1e6530f4",
   "metadata": {},
   "outputs": [],
   "source": [
    "#resultDictionary = dict((x1, {\"value\":x2,\"unit\":x3}) for x0, x1, x2, x3 in tab)"
   ]
  },
  {
   "cell_type": "code",
   "execution_count": 14,
   "id": "2c0389a7",
   "metadata": {},
   "outputs": [],
   "source": [
    "#resultDictionary_filtered_sorted"
   ]
  },
  {
   "cell_type": "code",
   "execution_count": 15,
   "id": "f85ed66d",
   "metadata": {},
   "outputs": [],
   "source": [
    "#testing Nicolas' metadataschemas reader\n",
    "from metadataSchemaReader import MetadataSchemaReader"
   ]
  },
  {
   "cell_type": "code",
   "execution_count": 16,
   "id": "799caf66",
   "metadata": {},
   "outputs": [
    {
     "ename": "FileNotFoundError",
     "evalue": "[Errno 2] No such file or directory: '/Users/reetuelzajoseph/bwSyncShare/auto_data_extraction/SEM_schema.json'",
     "output_type": "error",
     "traceback": [
      "\u001b[0;31m---------------------------------------------------------------------------\u001b[0m",
      "\u001b[0;31mFileNotFoundError\u001b[0m                         Traceback (most recent call last)",
      "Cell \u001b[0;32mIn [16], line 2\u001b[0m\n\u001b[1;32m      1\u001b[0m mySchema \u001b[38;5;241m=\u001b[39m \u001b[38;5;124m\"\u001b[39m\u001b[38;5;124m/Users/reetuelzajoseph/bwSyncShare/auto_data_extraction/SEM_schema.json\u001b[39m\u001b[38;5;124m\"\u001b[39m\n\u001b[0;32m----> 2\u001b[0m \u001b[38;5;28;01mwith\u001b[39;00m \u001b[38;5;28;43mopen\u001b[39;49m\u001b[43m(\u001b[49m\u001b[43mmySchema\u001b[49m\u001b[43m,\u001b[49m\u001b[43m \u001b[49m\u001b[38;5;124;43m'\u001b[39;49m\u001b[38;5;124;43mr\u001b[39;49m\u001b[38;5;124;43m'\u001b[39;49m\u001b[43m)\u001b[49m \u001b[38;5;28;01mas\u001b[39;00m f:\n\u001b[1;32m      3\u001b[0m     jsonSchema\u001b[38;5;241m=\u001b[39m json\u001b[38;5;241m.\u001b[39mload(f)\n\u001b[1;32m      4\u001b[0m \u001b[38;5;66;03m#print(type(jsonSchema[\"$defs\"]),jsonSchema[\"$defs\"])\u001b[39;00m\n",
      "File \u001b[0;32m/opt/homebrew/opt/ipython/libexec/lib/python3.10/site-packages/IPython/core/interactiveshell.py:282\u001b[0m, in \u001b[0;36m_modified_open\u001b[0;34m(file, *args, **kwargs)\u001b[0m\n\u001b[1;32m    275\u001b[0m \u001b[38;5;28;01mif\u001b[39;00m file \u001b[38;5;129;01min\u001b[39;00m {\u001b[38;5;241m0\u001b[39m, \u001b[38;5;241m1\u001b[39m, \u001b[38;5;241m2\u001b[39m}:\n\u001b[1;32m    276\u001b[0m     \u001b[38;5;28;01mraise\u001b[39;00m \u001b[38;5;167;01mValueError\u001b[39;00m(\n\u001b[1;32m    277\u001b[0m         \u001b[38;5;124mf\u001b[39m\u001b[38;5;124m\"\u001b[39m\u001b[38;5;124mIPython won\u001b[39m\u001b[38;5;124m'\u001b[39m\u001b[38;5;124mt let you open fd=\u001b[39m\u001b[38;5;132;01m{\u001b[39;00mfile\u001b[38;5;132;01m}\u001b[39;00m\u001b[38;5;124m by default \u001b[39m\u001b[38;5;124m\"\u001b[39m\n\u001b[1;32m    278\u001b[0m         \u001b[38;5;124m\"\u001b[39m\u001b[38;5;124mas it is likely to crash IPython. If you know what you are doing, \u001b[39m\u001b[38;5;124m\"\u001b[39m\n\u001b[1;32m    279\u001b[0m         \u001b[38;5;124m\"\u001b[39m\u001b[38;5;124myou can use builtins\u001b[39m\u001b[38;5;124m'\u001b[39m\u001b[38;5;124m open.\u001b[39m\u001b[38;5;124m\"\u001b[39m\n\u001b[1;32m    280\u001b[0m     )\n\u001b[0;32m--> 282\u001b[0m \u001b[38;5;28;01mreturn\u001b[39;00m \u001b[43mio_open\u001b[49m\u001b[43m(\u001b[49m\u001b[43mfile\u001b[49m\u001b[43m,\u001b[49m\u001b[43m \u001b[49m\u001b[38;5;241;43m*\u001b[39;49m\u001b[43margs\u001b[49m\u001b[43m,\u001b[49m\u001b[43m \u001b[49m\u001b[38;5;241;43m*\u001b[39;49m\u001b[38;5;241;43m*\u001b[39;49m\u001b[43mkwargs\u001b[49m\u001b[43m)\u001b[49m\n",
      "\u001b[0;31mFileNotFoundError\u001b[0m: [Errno 2] No such file or directory: '/Users/reetuelzajoseph/bwSyncShare/auto_data_extraction/SEM_schema.json'"
     ]
    }
   ],
   "source": [
    "mySchema = \"/Users/reetuelzajoseph/bwSyncShare/auto_data_extraction/SEM_schema.json\"\n",
    "with open(mySchema, 'r') as f:\n",
    "    jsonSchema= json.load(f)\n",
    "#print(type(jsonSchema[\"$defs\"]),jsonSchema[\"$defs\"])\n",
    "readSchema=MetadataSchemaReader(jsonSchema)\n",
    "#something wrong in conversion of the SEM json schema into a dictionary\n",
    "#Q: how does the MetadataSchemaReader handle units?"
   ]
  },
  {
   "cell_type": "code",
   "execution_count": null,
   "id": "c0386f11",
   "metadata": {},
   "outputs": [],
   "source": [
    " schema = readSchema.searchedSchema"
   ]
  },
  {
   "cell_type": "code",
   "execution_count": null,
   "id": "29ac40c7",
   "metadata": {},
   "outputs": [],
   "source": [
    "#pprint(schema)"
   ]
  },
  {
   "cell_type": "code",
   "execution_count": null,
   "id": "d1c95074",
   "metadata": {},
   "outputs": [],
   "source": [
    "from attributeMapping import AttributeMapping\n",
    "with open(\"mapSEM.json\", 'r') as f:\n",
    "    mapSEM_test = json.load(f)"
   ]
  },
  {
   "cell_type": "code",
   "execution_count": null,
   "id": "6214941a",
   "metadata": {},
   "outputs": [],
   "source": [
    "pprint(mapSEM_test)"
   ]
  },
  {
   "cell_type": "code",
   "execution_count": null,
   "id": "caa03448",
   "metadata": {},
   "outputs": [],
   "source": [
    "#type(resultDictionary_filtered_sorted)"
   ]
  },
  {
   "cell_type": "code",
   "execution_count": null,
   "id": "e1fed30a",
   "metadata": {},
   "outputs": [],
   "source": [
    "metadataDict=metadata.resultDictionary_filtered_sorted"
   ]
  },
  {
   "cell_type": "code",
   "execution_count": null,
   "id": "5fe585df",
   "metadata": {},
   "outputs": [],
   "source": [
    "#pprint(metadataDict)"
   ]
  },
  {
   "cell_type": "code",
   "execution_count": null,
   "id": "64f0277d",
   "metadata": {},
   "outputs": [],
   "source": [
    "for i in metadataDict:\n",
    "    SEMmap = AttributeMapping(metadataDict,mapSEM_test,\"mappedTerms\")"
   ]
  },
  {
   "cell_type": "code",
   "execution_count": null,
   "id": "ba5d7521",
   "metadata": {},
   "outputs": [],
   "source": [
    "pprint(SEMmap.__dict__)"
   ]
  },
  {
   "cell_type": "code",
   "execution_count": null,
   "id": "6ef934d8",
   "metadata": {},
   "outputs": [],
   "source": [
    "pprint(SEMmap.__dict__.items())"
   ]
  },
  {
   "cell_type": "code",
   "execution_count": null,
   "id": "8ab05fdb",
   "metadata": {},
   "outputs": [],
   "source": [
    "from mapSchema import MapSchema\n",
    "filledSchema = MapSchema()\n",
    "filledSchema = filledSchema.fillObject(schema, list(schema.keys()), None, SEMmap)\n",
    "#pprint(filledSchema)"
   ]
  },
  {
   "cell_type": "code",
   "execution_count": null,
   "id": "a5dce2df",
   "metadata": {},
   "outputs": [],
   "source": [
    "pprint(filledSchema)"
   ]
  },
  {
   "cell_type": "code",
   "execution_count": null,
   "id": "e72d2b32",
   "metadata": {},
   "outputs": [],
   "source": [
    "with open(\"mappedMetadata.json\", 'w') as f:\n",
    "            json.dump(filledSchema, f)"
   ]
  },
  {
   "cell_type": "code",
   "execution_count": null,
   "id": "63c06e41",
   "metadata": {},
   "outputs": [],
   "source": []
  },
  {
   "cell_type": "code",
   "execution_count": null,
   "id": "b1a862ef",
   "metadata": {},
   "outputs": [],
   "source": []
  }
 ],
 "metadata": {
  "kernelspec": {
   "display_name": "Python 3 (ipykernel)",
   "language": "python",
   "name": "python3"
  },
  "language_info": {
   "codemirror_mode": {
    "name": "ipython",
    "version": 3
   },
   "file_extension": ".py",
   "mimetype": "text/x-python",
   "name": "python",
   "nbconvert_exporter": "python",
   "pygments_lexer": "ipython3",
   "version": "3.10.8"
  }
 },
 "nbformat": 4,
 "nbformat_minor": 5
}
